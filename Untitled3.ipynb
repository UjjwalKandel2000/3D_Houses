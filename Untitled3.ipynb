{
 "cells": [
  {
   "cell_type": "code",
   "execution_count": 4,
   "id": "ac8c40c4",
   "metadata": {},
   "outputs": [],
   "source": [
    "import rasterio\n",
    "import time\n",
    "import json\n",
    "import pandas as pd\n",
    "#https://downloadagiv.blob.core.windows.net/dhm-vlaanderen-ii-dtm-raster-1m/DHMVIIDTMRAS1m_k01.zip\n",
    "list_url = []\n",
    "for i in range(1, 10):\n",
    "    if i<10:\n",
    "        page_num = str(i) + \".zip\"\n",
    "        page_num2 = str(i)+ \".tif\"\n",
    "        url = (\n",
    "            \"https://downloadagiv.blob.core.windows.net/dhm-vlaanderen-ii-dsm-raster-1m/DHMVIIDSMRAS1m_k0\" + page_num \\\n",
    "           +\"!/GeoTIFF/DHMVIIDSMRAS1m_k0\"+page_num2 )\n",
    "        list_url.append(url)\n",
    "    else:\n",
    "        page_num = str(i) + \".zip\"\n",
    "        page_num2 = str(i)+ \".tif\"\n",
    "        url = (\n",
    "                \"https://downloadagiv.blob.core.windows.net/dhm-vlaanderen-ii-dsm-raster-1m/DHMVIIDSMRAS1m_k\" + page_num \\\n",
    "            +\"!/GeoTIFF/DHMVIIDSMRAS1m_k\"+page_num2\n",
    "        )\n",
    "        list_url.append(url)"
   ]
  },
  {
   "cell_type": "code",
   "execution_count": 5,
   "id": "2ada4bfc",
   "metadata": {},
   "outputs": [
    {
     "data": {
      "text/plain": [
       "['https://downloadagiv.blob.core.windows.net/dhm-vlaanderen-ii-dsm-raster-1m/DHMVIIDSMRAS1m_k01.zip!/GeoTIFF/DHMVIIDSMRAS1m_k01.tif',\n",
       " 'https://downloadagiv.blob.core.windows.net/dhm-vlaanderen-ii-dsm-raster-1m/DHMVIIDSMRAS1m_k02.zip!/GeoTIFF/DHMVIIDSMRAS1m_k02.tif',\n",
       " 'https://downloadagiv.blob.core.windows.net/dhm-vlaanderen-ii-dsm-raster-1m/DHMVIIDSMRAS1m_k03.zip!/GeoTIFF/DHMVIIDSMRAS1m_k03.tif',\n",
       " 'https://downloadagiv.blob.core.windows.net/dhm-vlaanderen-ii-dsm-raster-1m/DHMVIIDSMRAS1m_k04.zip!/GeoTIFF/DHMVIIDSMRAS1m_k04.tif',\n",
       " 'https://downloadagiv.blob.core.windows.net/dhm-vlaanderen-ii-dsm-raster-1m/DHMVIIDSMRAS1m_k05.zip!/GeoTIFF/DHMVIIDSMRAS1m_k05.tif',\n",
       " 'https://downloadagiv.blob.core.windows.net/dhm-vlaanderen-ii-dsm-raster-1m/DHMVIIDSMRAS1m_k06.zip!/GeoTIFF/DHMVIIDSMRAS1m_k06.tif',\n",
       " 'https://downloadagiv.blob.core.windows.net/dhm-vlaanderen-ii-dsm-raster-1m/DHMVIIDSMRAS1m_k07.zip!/GeoTIFF/DHMVIIDSMRAS1m_k07.tif',\n",
       " 'https://downloadagiv.blob.core.windows.net/dhm-vlaanderen-ii-dsm-raster-1m/DHMVIIDSMRAS1m_k08.zip!/GeoTIFF/DHMVIIDSMRAS1m_k08.tif',\n",
       " 'https://downloadagiv.blob.core.windows.net/dhm-vlaanderen-ii-dsm-raster-1m/DHMVIIDSMRAS1m_k09.zip!/GeoTIFF/DHMVIIDSMRAS1m_k09.tif']"
      ]
     },
     "execution_count": 5,
     "metadata": {},
     "output_type": "execute_result"
    }
   ],
   "source": [
    "list_url"
   ]
  },
  {
   "cell_type": "code",
   "execution_count": null,
   "id": "0b624fd0",
   "metadata": {},
   "outputs": [
    {
     "name": "stdout",
     "output_type": "stream",
     "text": [
      "0\n"
     ]
    }
   ],
   "source": [
    "list_of_bounds = []\n",
    "counter = 0\n",
    "for url in list_url:\n",
    "    print(counter)\n",
    "    img_DTM = rasterio.open(f'zip+{url}')\n",
    "    list_of_bounds.append({\"left\": img_DTM.bounds.left,\n",
    "  \"buttom\": img_DTM.bounds.bottom,\n",
    "  \"right\": img_DTM.bounds.right,\n",
    "  \"top\": img_DTM.bounds.top})\n",
    "    counter+=1\n",
    "    "
   ]
  },
  {
   "cell_type": "code",
   "execution_count": 48,
   "id": "57225338",
   "metadata": {},
   "outputs": [
    {
     "data": {
      "text/plain": [
       "BoundingBox(left=145000.0, bottom=238000.0, right=162000.0, top=247000.0)"
      ]
     },
     "execution_count": 48,
     "metadata": {},
     "output_type": "execute_result"
    }
   ],
   "source": [
    "#img_DTM = rasterio.open(f'zip+{url}!/GeoTIFF/DHMVIIDSMRAS1m_k01.tif')\n",
    "pd.DataFrame(list_of_bounds)\n"
   ]
  },
  {
   "cell_type": "code",
   "execution_count": 66,
   "id": "95172012",
   "metadata": {},
   "outputs": [
    {
     "data": {
      "text/plain": [
       "BoundingBox(left=145000.0, bottom=238000.0, right=162000.0, top=247000.0)"
      ]
     },
     "execution_count": 66,
     "metadata": {},
     "output_type": "execute_result"
    }
   ],
   "source": [
    " "
   ]
  },
  {
   "cell_type": "code",
   "execution_count": 65,
   "id": "114756f2",
   "metadata": {},
   "outputs": [
    {
     "data": {
      "text/html": [
       "<div>\n",
       "<style scoped>\n",
       "    .dataframe tbody tr th:only-of-type {\n",
       "        vertical-align: middle;\n",
       "    }\n",
       "\n",
       "    .dataframe tbody tr th {\n",
       "        vertical-align: top;\n",
       "    }\n",
       "\n",
       "    .dataframe thead th {\n",
       "        text-align: right;\n",
       "    }\n",
       "</style>\n",
       "<table border=\"1\" class=\"dataframe\">\n",
       "  <thead>\n",
       "    <tr style=\"text-align: right;\">\n",
       "      <th></th>\n",
       "      <th>left</th>\n",
       "      <th>buttom</th>\n",
       "      <th>right</th>\n",
       "      <th>top</th>\n",
       "    </tr>\n",
       "  </thead>\n",
       "  <tbody>\n",
       "    <tr>\n",
       "      <th>0</th>\n",
       "      <td>145000.0</td>\n",
       "      <td>238000.0</td>\n",
       "      <td>162000.0</td>\n",
       "      <td>247000.0</td>\n",
       "    </tr>\n",
       "  </tbody>\n",
       "</table>\n",
       "</div>"
      ],
      "text/plain": [
       "       left    buttom     right       top\n",
       "0  145000.0  238000.0  162000.0  247000.0"
      ]
     },
     "execution_count": 65,
     "metadata": {},
     "output_type": "execute_result"
    }
   ],
   "source": [
    "\n"
   ]
  },
  {
   "cell_type": "code",
   "execution_count": null,
   "id": "66957b59",
   "metadata": {},
   "outputs": [],
   "source": []
  }
 ],
 "metadata": {
  "kernelspec": {
   "display_name": "Python 3",
   "language": "python",
   "name": "python3"
  }
 },
 "nbformat": 4,
 "nbformat_minor": 5
}
